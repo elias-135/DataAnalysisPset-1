{
 "cells": [
  {
   "cell_type": "code",
   "execution_count": 33,
   "metadata": {},
   "outputs": [],
   "source": [
    "import pandas as pd\n",
    "from sqlalchemy import create_engine, Table, MetaData, text, Column, Integer, String, Float, BigInteger\n",
    "\n"
   ]
  },
  {
   "cell_type": "code",
   "execution_count": 34,
   "metadata": {},
   "outputs": [],
   "source": [
    "\n",
    "def create_database(engine, dbname):\n",
    "    with engine.connect() as connection:\n",
    "        connection.execution_options(isolation_level=\"AUTOCOMMIT\")\n",
    "        connection.execute(text(f\"CREATE DATABASE {dbname}\"))\n",
    "        print(f\"Database '{dbname}' created successfully!\")\n"
   ]
  },
  {
   "cell_type": "code",
   "execution_count": null,
   "metadata": {},
   "outputs": [],
   "source": [
    "from sqlalchemy import create_engine, MetaData, Table, Column, Integer, String, Float, BigInteger, Numeric\n",
    "\n",
    "def create_tables(engine):\n",
    "    metadata = MetaData()\n",
    "    \n",
    "    departments = Table('departments', metadata,\n",
    "                        Column('department_id', Integer, primary_key=True),\n",
    "                        Column('department', String)\n",
    "                        )\n",
    "    \n",
    "    aisles = Table('aisles', metadata,\n",
    "                   Column('aisle_id', Integer, primary_key=True),\n",
    "                   Column('aisle', String)\n",
    "                   )\n",
    "    \n",
    "    instacart = Table('instacart', metadata,\n",
    "                      Column('order_id', BigInteger),\n",
    "                      Column('user_id', Integer),\n",
    "                      Column('order_number', Integer),\n",
    "                      Column('order_dow', Integer),\n",
    "                      Column('order_hour_of_day', Integer),\n",
    "                      Column('days_since_prior_order', Float)\n",
    "                      )\n",
    "    \n",
    "    orders = Table('orders', metadata,\n",
    "                   Column('order_id', BigInteger),\n",
    "                   Column('product_id', Integer),\n",
    "                   Column('add_to_cart_order', Float),\n",
    "                   Column('reordered', Integer)\n",
    "                   )\n",
    "    \n",
    "    products = Table('products', metadata,\n",
    "                     Column('product_id', Integer),\n",
    "                     Column('product_name', String),\n",
    "                     Column('aisle_id', Integer),\n",
    "                     Column('department_id', Integer),\n",
    "                     Column('price', Float)\n",
    "                     )\n",
    "\n",
    "    metadata.create_all(engine)\n",
    "    print(\"Tables created successfully!\")\n",
    "\n"
   ]
  },
  {
   "cell_type": "code",
   "execution_count": null,
   "metadata": {},
   "outputs": [],
   "source": [
    "import pandas as pd\n",
    "from sqlalchemy import create_engine, MetaData, Table, text\n",
    "\n",
    "def loadInfo(engine, batch_size=1000):\n",
    "    try:\n",
    "        aislesTable = pd.read_csv('C:/DataMining/Proyecto1/CSV/aisles.csv', encoding='utf-8', delimiter=';')\n",
    "        departmentsTable = pd.read_csv('C:/DataMining/Proyecto1/CSV/departments.csv', encoding='utf-8', delimiter=';')\n",
    "        instacartTable = pd.read_csv('C:/DataMining/Proyecto1/CSV/instacart_orders.csv', encoding='utf-8', delimiter=';')\n",
    "        orderproductsTable = pd.read_csv('C:/DataMining/Proyecto1/CSV/order_products.csv', encoding='utf-8', delimiter=';')\n",
    "        productsTable = pd.read_csv('C:/DataMining/Proyecto1/CSV/products.csv', encoding='utf-8', delimiter=';')\n",
    "        \n",
    "        \n",
    "        csvMap = {\n",
    "            'aisles': aislesTable,\n",
    "            'departments': departmentsTable,\n",
    "            'instacart': instacartTable,\n",
    "            'orders': orderproductsTable,\n",
    "            'products': productsTable\n",
    "        }\n",
    "\n",
    "        with engine.connect() as connection:\n",
    "            metadata = MetaData()\n",
    "            for key, value in csvMap.items():\n",
    "                table = Table(key, metadata, autoload_with=engine, quote=True)\n",
    "\n",
    "                for start in range(0, len(value), batch_size):\n",
    "                    end = start + batch_size\n",
    "                    batch = value.iloc[start:end]\n",
    "\n",
    "                    batch_dicts = batch.to_dict(orient='records')\n",
    "\n",
    "                    with connection.begin() as transaction:\n",
    "                        try:\n",
    "                            connection.execute(table.insert(), batch_dicts)\n",
    "                            transaction.commit()\n",
    "                        except Exception as e:\n",
    "                            transaction.rollback()\n",
    "                            print(f\"An error occurred while inserting into table {key}: {e}\")\n",
    "                            raise\n",
    "\n",
    "                print(f\"Inserted data into table: {key}\")\n",
    "\n",
    "    except Exception as e:\n",
    "        print(f\"An error occurred: {e}\")\n"
   ]
  },
  {
   "cell_type": "code",
   "execution_count": 37,
   "metadata": {},
   "outputs": [],
   "source": [
    "import os"
   ]
  },
  {
   "cell_type": "code",
   "execution_count": null,
   "metadata": {},
   "outputs": [],
   "source": [
    "\n",
    "user= os.getenv('POSTGRES_USER')\n",
    "password= os.getenv('POSTGRES_PASSWORD')\n",
    "dbname = 'postgres'\n",
    "host = 'localhost'\n",
    "port = '5432'\n",
    "\n",
    "dbCreated = 'rawproyecto1'\n"
   ]
  },
  {
   "cell_type": "code",
   "execution_count": null,
   "metadata": {},
   "outputs": [],
   "source": [
    "\n",
    "engine = create_engine(f'postgresql+psycopg2://{user}:{password}@{host}:{port}/postgres')\n"
   ]
  },
  {
   "cell_type": "code",
   "execution_count": null,
   "metadata": {},
   "outputs": [
    {
     "name": "stdout",
     "output_type": "stream",
     "text": [
      "Database 'rawproyecto1' created successfully!\n"
     ]
    }
   ],
   "source": [
    "create_database(engine, dbCreated)"
   ]
  },
  {
   "cell_type": "code",
   "execution_count": null,
   "metadata": {},
   "outputs": [],
   "source": [
    "engine = create_engine(f'postgresql+psycopg2://{user}:{password}@{host}:{port}/{dbCreated}')"
   ]
  },
  {
   "cell_type": "code",
   "execution_count": 42,
   "metadata": {},
   "outputs": [
    {
     "name": "stdout",
     "output_type": "stream",
     "text": [
      "Tables created successfully!\n"
     ]
    }
   ],
   "source": [
    "create_tables(engine)"
   ]
  },
  {
   "cell_type": "code",
   "execution_count": 43,
   "metadata": {},
   "outputs": [
    {
     "name": "stdout",
     "output_type": "stream",
     "text": [
      "Inserted data into table: aisles\n",
      "Inserted data into table: departments\n",
      "Inserted data into table: instacart\n",
      "Inserted data into table: orders\n",
      "Inserted data into table: products\n"
     ]
    }
   ],
   "source": [
    "\n",
    "loadInfo(engine)"
   ]
  }
 ],
 "metadata": {
  "kernelspec": {
   "display_name": "Python 3",
   "language": "python",
   "name": "python3"
  },
  "language_info": {
   "codemirror_mode": {
    "name": "ipython",
    "version": 3
   },
   "file_extension": ".py",
   "mimetype": "text/x-python",
   "name": "python",
   "nbconvert_exporter": "python",
   "pygments_lexer": "ipython3",
   "version": "3.10.13"
  }
 },
 "nbformat": 4,
 "nbformat_minor": 2
}
